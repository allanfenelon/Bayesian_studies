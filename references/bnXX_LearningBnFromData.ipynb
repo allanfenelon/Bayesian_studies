{
 "cells": [
  {
   "cell_type": "markdown",
   "metadata": {},
   "source": [
    "# Learning Bayesian Networks from Data\n",
    "https://pgmpy.org/detailed_notebooks/10.%20Learning%20Bayesian%20Networks%20from%20Data.html"
   ]
  },
  {
   "cell_type": "markdown",
   "metadata": {},
   "source": [
    "Previous notebooks showed how Bayesian networks economically encode a probability distribution over a set of variables, and how they can be used e.g. to predict variable states, or to generate new samples from the joint distribution. This section will be about obtaining a Bayesian network, given a set of sample data. Learning a Bayesian network can be split into two problems:\n",
    "\n",
    "*Parameter learning*: Given a set of data samples and a DAG that captures the dependencies between the variables, estimate the (conditional) probability distributions of the individual variables.\n",
    "\n",
    "*Structure learning*: Given a set of data samples, estimate a DAG that captures the dependencies between the variables.\n",
    "\n",
    "This notebook aims to illustrate how parameter learning and structure learning can be done with pgmpy. Currently, the library supports: - Parameter learning for discrete nodes: - Maximum Likelihood Estimation - Bayesian Estimation - Structure learning for discrete, fully observed networks: - Score-based structure estimation (BIC/BDeu/K2 score; exhaustive search, hill climb/tabu search) - Constraint-based structure estimation (PC) - Hybrid structure estimation (MMHC)\n",
    "\n",
    "## Parameter Learning\n",
    "Suppose we have the following data:"
   ]
  },
  {
   "cell_type": "code",
   "execution_count": 1,
   "metadata": {},
   "outputs": [
    {
     "data": {
      "text/html": [
       "<div>\n",
       "<style scoped>\n",
       "    .dataframe tbody tr th:only-of-type {\n",
       "        vertical-align: middle;\n",
       "    }\n",
       "\n",
       "    .dataframe tbody tr th {\n",
       "        vertical-align: top;\n",
       "    }\n",
       "\n",
       "    .dataframe thead th {\n",
       "        text-align: right;\n",
       "    }\n",
       "</style>\n",
       "<table border=\"1\" class=\"dataframe\">\n",
       "  <thead>\n",
       "    <tr style=\"text-align: right;\">\n",
       "      <th></th>\n",
       "      <th>fruit</th>\n",
       "      <th>tasty</th>\n",
       "      <th>size</th>\n",
       "    </tr>\n",
       "  </thead>\n",
       "  <tbody>\n",
       "    <tr>\n",
       "      <th>0</th>\n",
       "      <td>banana</td>\n",
       "      <td>yes</td>\n",
       "      <td>large</td>\n",
       "    </tr>\n",
       "    <tr>\n",
       "      <th>1</th>\n",
       "      <td>apple</td>\n",
       "      <td>no</td>\n",
       "      <td>large</td>\n",
       "    </tr>\n",
       "    <tr>\n",
       "      <th>2</th>\n",
       "      <td>banana</td>\n",
       "      <td>yes</td>\n",
       "      <td>large</td>\n",
       "    </tr>\n",
       "  </tbody>\n",
       "</table>\n",
       "</div>"
      ],
      "text/plain": [
       "    fruit tasty   size\n",
       "0  banana   yes  large\n",
       "1   apple    no  large\n",
       "2  banana   yes  large"
      ]
     },
     "metadata": {},
     "output_type": "display_data"
    },
    {
     "name": "stdout",
     "output_type": "stream",
     "text": [
      "data.shape: (14, 3)\n"
     ]
    }
   ],
   "source": [
    "# Parameter learning: the task to estimate the values of the conditional probability distributions (CPDs), for the variables fruit, size, and tasty.\n",
    "import pandas as pd\n",
    "data = pd.DataFrame(data={'fruit': [\"banana\", \"apple\", \"banana\", \"apple\", \"banana\",\"apple\", \"banana\",\n",
    "                                    \"apple\", \"apple\", \"apple\", \"banana\", \"banana\", \"apple\", \"banana\",],\n",
    "                          'tasty': [\"yes\", \"no\", \"yes\", \"yes\", \"yes\", \"yes\", \"yes\",\n",
    "                                    \"yes\", \"yes\", \"yes\", \"yes\", \"no\", \"no\", \"no\"],\n",
    "                          'size': [\"large\", \"large\", \"large\", \"small\", \"large\", \"large\", \"large\",\n",
    "                                    \"small\", \"large\", \"large\", \"large\", \"large\", \"small\", \"small\"]})\n",
    "display(data.head(3))\n",
    "print('data.shape:', data.shape)"
   ]
  },
  {
   "cell_type": "markdown",
   "metadata": {},
   "source": [
    "Parameter learning is the task to estimate the values of the conditional probability distributions (CPDs), for the variables fruit, size, and tasty.\n",
    "\n",
    "# State counts\n",
    "To make sense of the given data, we can start by counting how often each state of the variable occurs. If the variable is dependent on parents, the counts are done conditionally on the parents states, i.e. for seperately for each parent configuration:"
   ]
  },
  {
   "cell_type": "code",
   "execution_count": 2,
   "metadata": {},
   "outputs": [
    {
     "name": "stderr",
     "output_type": "stream",
     "text": [
      "c:\\Users\\praf6\\OneDrive\\UFCA\\Ensino\\CRAN R_aulas\\RClasses\\P\\.conda\\Lib\\site-packages\\tqdm\\auto.py:21: TqdmWarning: IProgress not found. Please update jupyter and ipywidgets. See https://ipywidgets.readthedocs.io/en/stable/user_install.html\n",
      "  from .autonotebook import tqdm as notebook_tqdm\n"
     ]
    },
    {
     "name": "stdout",
     "output_type": "stream",
     "text": [
      "\n",
      "         count\n",
      "fruit        \n",
      "apple       7\n",
      "banana      7\n",
      "\n",
      " fruit apple       banana      \n",
      "size  large small  large small\n",
      "tasty                         \n",
      "no      1.0   1.0    1.0   1.0\n",
      "yes     3.0   2.0    5.0   0.0\n"
     ]
    }
   ],
   "source": [
    "from pgmpy.models import BayesianNetwork\n",
    "from pgmpy.estimators import ParameterEstimator\n",
    "model = BayesianNetwork([('fruit', 'tasty'), ('size', 'tasty')])# fruit -> tasty <- size\n",
    "pe = ParameterEstimator(model, data)\n",
    "print(\"\\n\", pe.state_counts('fruit'))  # unconditional\n",
    "print(\"\\n\", pe.state_counts('tasty'))  # conditional on fruit and size"
   ]
  },
  {
   "cell_type": "markdown",
   "metadata": {},
   "source": [
    "## Maximum Likelihood Estimation\n",
    "A natural estimate for the CPDs is to simply use the relative frequencies, with which the variable states have occured. We observed 7 apples among a total of 14 fruits, so we might guess that about 50% of fruits are apples.\n",
    "\n",
    "This approach is Maximum Likelihood Estimation (MLE). According to MLE, we should fill the CPDs in such a way, that P(`data`}|`model`) is maximal. This is achieved when using the relative frequencies. See [1], section 17.1 for an introduction to ML parameter estimation. pgmpy supports MLE as follows:"
   ]
  },
  {
   "cell_type": "code",
   "execution_count": 3,
   "metadata": {},
   "outputs": [
    {
     "name": "stdout",
     "output_type": "stream",
     "text": [
      "+---------------+-----+\n",
      "| fruit(apple)  | 0.5 |\n",
      "+---------------+-----+\n",
      "| fruit(banana) | 0.5 |\n",
      "+---------------+-----+\n",
      "+------------+--------------+-----+---------------+\n",
      "| fruit      | fruit(apple) | ... | fruit(banana) |\n",
      "+------------+--------------+-----+---------------+\n",
      "| size       | size(large)  | ... | size(small)   |\n",
      "+------------+--------------+-----+---------------+\n",
      "| tasty(no)  | 0.25         | ... | 1.0           |\n",
      "+------------+--------------+-----+---------------+\n",
      "| tasty(yes) | 0.75         | ... | 0.0           |\n",
      "+------------+--------------+-----+---------------+\n"
     ]
    }
   ],
   "source": [
    "from pgmpy.estimators import MaximumLikelihoodEstimator\n",
    "mle = MaximumLikelihoodEstimator(model, data)\n",
    "print(mle.estimate_cpd('fruit'))  # unconditional\n",
    "print(mle.estimate_cpd('tasty'))  # conditional\n",
    "# mle.get_parameters()#returns a list of CPDs for all variable of the model"
   ]
  },
  {
   "cell_type": "markdown",
   "metadata": {},
   "source": [
    "mle.estimate_cpd(variable) computes the state counts and divides each cell by the (conditional) sample size. The mle.get_parameters()-method returns a list of CPDs for all variable of the model.\n",
    "\n",
    "The built-in fit()-method of BayesianNetwork provides more convenient access to parameter estimators:"
   ]
  },
  {
   "cell_type": "code",
   "execution_count": 4,
   "metadata": {},
   "outputs": [
    {
     "name": "stdout",
     "output_type": "stream",
     "text": [
      "+---------------+-----+\n",
      "| fruit(apple)  | 0.5 |\n",
      "+---------------+-----+\n",
      "| fruit(banana) | 0.5 |\n",
      "+---------------+-----+\n",
      "+-------------+----------+\n",
      "| size(large) | 0.714286 |\n",
      "+-------------+----------+\n",
      "| size(small) | 0.285714 |\n",
      "+-------------+----------+\n",
      "+------------+--------------+-----+---------------+\n",
      "| fruit      | fruit(apple) | ... | fruit(banana) |\n",
      "+------------+--------------+-----+---------------+\n",
      "| size       | size(large)  | ... | size(small)   |\n",
      "+------------+--------------+-----+---------------+\n",
      "| tasty(no)  | 0.25         | ... | 1.0           |\n",
      "+------------+--------------+-----+---------------+\n",
      "| tasty(yes) | 0.75         | ... | 0.0           |\n",
      "+------------+--------------+-----+---------------+\n"
     ]
    }
   ],
   "source": [
    "# Similarly to sklearn you can fit all CPDs of `model` using MLE:\n",
    "model.fit(data, estimator=MaximumLikelihoodEstimator)\n",
    "print(model.get_cpds('fruit'))  # unconditional\n",
    "print(model.get_cpds('size'))  # unconditional\n",
    "print(model.get_cpds('tasty'))  # conditional"
   ]
  },
  {
   "cell_type": "markdown",
   "metadata": {},
   "source": [
    "While very straightforward, the ML estimator has the problem of overfitting to the data. In above CPD, the probability of a large banana being tasty is estimated at 0.833, because 5 out of 6 observed large bananas were tasty. Fine. But note that the probability of a small banana being tasty is estimated at 0.0, because we observed only one small banana and it happened to be not tasty. But that should hardly make us certain that small bananas aren’t tasty! We simply do not have enough observations to rely on the observed frequencies. If the observed data is not representative for the underlying distribution, ML estimations will be extremly far off.\n",
    "\n",
    "When estimating parameters for Bayesian networks, lack of data is a frequent problem. Even if the total sample size is very large, the fact that state counts are done conditionally for each parents configuration causes immense fragmentation. If a variable has 3 parents that can each take 10 states, then state counts will be done seperately for 10^3 = 1000 parents configurations. This makes MLE very fragile and unstable for learning Bayesian Network parameters. A way to mitigate MLE’s overfitting is Bayesian Parameter Estimation."
   ]
  },
  {
   "cell_type": "markdown",
   "metadata": {},
   "source": [
    "## Bayesian Parameter Estimation\n",
    "The Bayesian Parameter Estimator starts with already existing prior CPDs, that express our beliefs about the variables before the data was observed. Those “priors” are then updated, using the state counts from the observed data. See [1], Section 17.3 for a general introduction to Bayesian estimators.\n",
    "\n",
    "One can think of the priors as consisting in pseudo state counts, that are added to the actual counts before normalization. Unless one wants to encode specific beliefs about the distributions of the variables, one commonly chooses uniform priors, i.e. ones that deem all states equiprobable.\n",
    "\n",
    "A very simple prior is the so-called K2 prior, which simply adds 1 to the count of every single state. A somewhat more sensible choice of prior is BDeu (Bayesian Dirichlet equivalent uniform prior). For BDeu we need to specify an equivalent sample size N and then the pseudo-counts are the equivalent of having observed N uniform samples of each variable (and each parent configuration). In pgmpy:"
   ]
  },
  {
   "cell_type": "code",
   "execution_count": null,
   "metadata": {},
   "outputs": [
    {
     "name": "stdout",
     "output_type": "stream",
     "text": [
      "+---------------+-----+\n",
      "| fruit(apple)  | 0.5 |\n",
      "+---------------+-----+\n",
      "| fruit(banana) | 0.5 |\n",
      "+---------------+-----+\n",
      "+-------------+-----+\n",
      "| size(large) | 0.7 |\n",
      "+-------------+-----+\n",
      "| size(small) | 0.3 |\n",
      "+-------------+-----+\n",
      "+------------+--------------------+-----+---------------+---------------+\n",
      "| fruit      | fruit(apple)       | ... | fruit(banana) | fruit(banana) |\n",
      "+------------+--------------------+-----+---------------+---------------+\n",
      "| size       | size(large)        | ... | size(large)   | size(small)   |\n",
      "+------------+--------------------+-----+---------------+---------------+\n",
      "| tasty(no)  | 0.2647058823529412 | ... | 0.18          | 0.9           |\n",
      "+------------+--------------------+-----+---------------+---------------+\n",
      "| tasty(yes) | 0.7352941176470589 | ... | 0.82          | 0.1           |\n",
      "+------------+--------------------+-----+---------------+---------------+\n"
     ]
    }
   ],
   "source": [
    "from pgmpy.estimators import BayesianEstimator\n",
    "# est = BayesianEstimator(model, data)\n",
    "# print(est.estimate_cpd('tasty', prior_type='BDeu', equivalent_sample_size=10))\n",
    "model.fit(data, estimator=BayesianEstimator, prior_type=\"BDeu\", \n",
    "          equivalent_sample_size=10) # default equivalent_sample_size=5\n",
    "print(model.get_cpds('fruit'))  # unconditional\n",
    "print(model.get_cpds('size'))  # unconditional\n",
    "print(model.get_cpds('tasty'))  # conditional"
   ]
  },
  {
   "cell_type": "markdown",
   "metadata": {},
   "source": [
    "The estimated values in the CPDs are now more conservative. In particular, the estimate for a small banana being not tasty is now around 0.64 rather than 1.0. Setting equivalent_sample_size to 10 means that for each parent configuration, we add the equivalent of 10 uniform samples (here: +5 small bananas that are tasty and +5 that aren’t)."
   ]
  },
  {
   "cell_type": "markdown",
   "metadata": {},
   "source": [
    "## Structure Learning\n",
    "To learn model structure (a DAG) from a data set, there are two broad techniques:\n",
    "\n",
    "- score-based structure learning\n",
    "\n",
    "- constraint-based structure learning\n",
    "\n",
    "The combination of both techniques allows further improvement: - hybrid structure learning\n",
    "\n",
    "We briefly discuss all approaches and give examples.\n",
    "\n",
    "This approach construes model selection as an optimization task. It has two building blocks:\n",
    "\n",
    "A scoring function $s_D\\colon M \\to \\mathbb R$ that maps models to a numerical score, based on how well they fit to a given data set $D$.\n",
    "\n",
    "A search strategy to traverse the search space of possible models $M$ and select a model with optimal score.\n",
    "\n",
    "### Scoring functions\n",
    "Commonly used scores to measure the fit between model and data are Bayesian Dirichlet scores such as BDeu or K2 and the Bayesian Information Criterion (BIC, also called MDL). See [1], Section 18.3 for a detailed introduction on scores. As before, BDeu is dependent on an equivalent sample size."
   ]
  },
  {
   "cell_type": "code",
   "execution_count": 39,
   "metadata": {},
   "outputs": [
    {
     "name": "stdout",
     "output_type": "stream",
     "text": [
      "bic.score(model1): -14293.985874656868\n",
      "bic.score(model2): -20949.730340209437\n",
      "bdeu.score(model1): -13937.948171731292\n",
      "bdeu.score(model2: -20905.688098941664\n",
      "k2.score(model1): -14328.778351289773\n",
      "k2.score(model2): -20932.514846084498\n"
     ]
    }
   ],
   "source": [
    "import pandas as pd\n",
    "import numpy as np\n",
    "from pgmpy.estimators import BDeuScore, K2Score, BicScore\n",
    "from pgmpy.models import BayesianNetwork\n",
    "\n",
    "# create random data sample with 3 variables, where Z is dependent on X, Y:\n",
    "data = pd.DataFrame(np.random.randint(0, 4, size=(5000, 2)), columns=list('XY'))\n",
    "data['Z'] = data['X'] + data['Y'] #X -> Z <- Y\n",
    "\n",
    "bdeu = BDeuScore(data, equivalent_sample_size=5)\n",
    "k2 = K2Score(data)\n",
    "bic = BicScore(data)\n",
    "\n",
    "model1 = BayesianNetwork([('X', 'Z'), ('Y', 'Z')])  # X -> Z <- Y (the right model)\n",
    "model2 = BayesianNetwork([('X', 'Z'), ('X', 'Y')])  # Y <- X -> Z (the wrong model)\n",
    "\n",
    "#the greater the score the better the model\n",
    "print('bic.score(model1):', bic.score(model1))\n",
    "print('bic.score(model2):', bic.score(model2))\n",
    "print('bdeu.score(model1):', bdeu.score(model1))\n",
    "print('bdeu.score(model2:', bdeu.score(model2))\n",
    "print('k2.score(model1):', k2.score(model1))\n",
    "print('k2.score(model2):', k2.score(model2))\n"
   ]
  },
  {
   "cell_type": "markdown",
   "metadata": {},
   "source": [
    "While the scores vary slightly, we can see that the correct model1 has a much higher score than model2. Importantly, these scores decompose, i.e. they can be computed locally for each of the variables given their potential parents, independent of other parts of the network:"
   ]
  },
  {
   "cell_type": "code",
   "execution_count": 40,
   "metadata": {},
   "outputs": [
    {
     "name": "stdout",
     "output_type": "stream",
     "text": [
      "-9228.18015266147\n",
      "-6993.513631896803\n",
      "-57.12121218260944\n"
     ]
    }
   ],
   "source": [
    "print(bdeu.local_score('Z', parents=[]))\n",
    "print(bdeu.local_score('Z', parents=['X']))\n",
    "print(bdeu.local_score('Z', parents=['X', 'Y']))"
   ]
  },
  {
   "cell_type": "markdown",
   "metadata": {},
   "source": [
    "# Search strategies\n",
    "The search space of DAGs is super-exponential in the number of variables and the above scoring functions allow for local maxima. The first property makes exhaustive search intractable for all but very small networks, the second prohibits efficient local optimization algorithms to always find the optimal structure. Thus, identifiying the ideal structure is often not tractable. Despite these bad news, heuristic search strategies often yields good results.\n",
    "\n",
    "If only few nodes are involved (read: less than 5), ExhaustiveSearch can be used to compute the score for every DAG and returns the best-scoring one:"
   ]
  },
  {
   "cell_type": "code",
   "execution_count": 41,
   "metadata": {},
   "outputs": [
    {
     "name": "stdout",
     "output_type": "stream",
     "text": [
      "[('X', 'Z'), ('Y', 'Z')]\n",
      "\n",
      "All DAGs by score:\n",
      "-14293.985874656868 : [('X', 'Z'), ('Y', 'Z')]\n",
      "-14329.432879846305 : [('Y', 'Z'), ('Y', 'X'), ('Z', 'X')]\n",
      "-14329.432879846305 : [('X', 'Z'), ('Y', 'Z'), ('Y', 'X')]\n",
      "-14329.432879846307 : [('Y', 'X'), ('Z', 'X'), ('Z', 'Y')]\n",
      "-14329.432879846307 : [('X', 'Y'), ('Z', 'X'), ('Z', 'Y')]\n",
      "-14329.432879846307 : [('X', 'Y'), ('X', 'Z'), ('Z', 'Y')]\n",
      "-14329.432879846307 : [('X', 'Y'), ('X', 'Z'), ('Y', 'Z')]\n",
      "-16532.36598365125 : [('Y', 'X'), ('Z', 'X')]\n",
      "-16532.381446693784 : [('X', 'Y'), ('Z', 'Y')]\n",
      "-18711.350231215056 : [('Y', 'Z'), ('Z', 'X')]\n",
      "-18711.35023121506 : [('Z', 'X'), ('Z', 'Y')]\n",
      "-18711.35023121506 : [('X', 'Z'), ('Z', 'Y')]\n",
      "-20914.28333502 : [('Z', 'X')]\n",
      "-20914.28333502 : [('X', 'Z')]\n",
      "-20914.298798062537 : [('Z', 'Y')]\n",
      "-20914.298798062537 : [('Y', 'Z')]\n",
      "-20949.730340209437 : [('X', 'Z'), ('Y', 'X')]\n",
      "-20949.730340209437 : [('X', 'Y'), ('X', 'Z')]\n",
      "-20949.73034020944 : [('X', 'Y'), ('Z', 'X')]\n",
      "-20949.74580325197 : [('Y', 'Z'), ('Y', 'X')]\n",
      "-20949.745803251975 : [('Y', 'X'), ('Z', 'Y')]\n",
      "-20949.745803251975 : [('X', 'Y'), ('Y', 'Z')]\n",
      "-23117.23190186748 : []\n",
      "-23152.678907056918 : [('Y', 'X')]\n",
      "-23152.678907056918 : [('X', 'Y')]\n"
     ]
    }
   ],
   "source": [
    "from pgmpy.estimators import ExhaustiveSearch\n",
    "\n",
    "es = ExhaustiveSearch(data, scoring_method=bic)\n",
    "best_model = es.estimate()\n",
    "print(best_model.edges())\n",
    "\n",
    "print(\"\\nAll DAGs by score:\")\n",
    "for score, dag in reversed(es.all_scores()):\n",
    "    print(score, ':', dag.edges())"
   ]
  },
  {
   "cell_type": "code",
   "execution_count": 42,
   "metadata": {},
   "outputs": [
    {
     "data": {
      "image/png": "[encoded data removed]",
      "text/plain": [
       "<Figure size 173.228x191.5 with 1 Axes>"
      ]
     },
     "metadata": {},
     "output_type": "display_data"
    }
   ],
   "source": [
    "import matplotlib.pyplot as plt\n",
    "# Get a daft object.\n",
    "model_daft = best_model.to_daft(node_pos = 'circular', latex=False)\n",
    "# To open the plot\n",
    "model_daft.render();\n",
    "# Save the plot\n",
    "# model_daft.savefig('sachs.png')"
   ]
  },
  {
   "cell_type": "markdown",
   "metadata": {},
   "source": [
    "Once more nodes are involved, one needs to switch to heuristic search. HillClimbSearch implements a greedy local search that starts from the DAG start (default: disconnected DAG) and proceeds by iteratively performing single-edge manipulations that maximally increase the score. The search terminates once a local maximum is found."
   ]
  },
  {
   "cell_type": "code",
   "execution_count": 43,
   "metadata": {},
   "outputs": [
    {
     "name": "stdout",
     "output_type": "stream",
     "text": [
      "best_model: [('A', 'H'), ('B', 'A'), ('C', 'A'), ('G', 'H')]\n"
     ]
    },
    {
     "data": {
      "image/png": "[encoded data removed]",
      "text/plain": [
       "<Figure size 212.598x212.598 with 1 Axes>"
      ]
     },
     "metadata": {},
     "output_type": "display_data"
    }
   ],
   "source": [
    "from pgmpy.estimators import HillClimbSearch\n",
    "\n",
    "# create some data with dependencies\n",
    "data2 = pd.DataFrame(np.random.randint(0, 3, size=(2500, 8)), columns=list('ABCDEFGH'))\n",
    "data2['A'] += data2['B'] + data2['C'] #[(B,A), (C,A)]\n",
    "data2['H'] = data2['G'] - data2['A']#[(G,H), (A,H)]\n",
    "\n",
    "hc = HillClimbSearch(data2)\n",
    "best_model = hc.estimate(scoring_method=BicScore(data2), show_progress=False)\n",
    "print('best_model:', best_model.edges())\n",
    "model_daft = best_model.to_daft(node_pos = 'circular', latex=False)\n",
    "model_daft.render();"
   ]
  },
  {
   "cell_type": "markdown",
   "metadata": {},
   "source": [
    "To enforce a wider exploration of the search space, the search can be enhanced with a tabu list. The list keeps track of the last n modfications; those are then not allowed to be reversed, regardless of the score. Additionally a white_list or black_list can be supplied to restrict the search to a particular subset or to exclude certain edges. The parameter max_indegree allows to restrict the maximum number of parents for each node.\n",
    "\n",
    "## Constraint-based Structure Learning\n",
    "A different, but quite straightforward approach to build a DAG from data is this:\n",
    "\n",
    "- Identify independencies in the data set using hypothesis tests\n",
    "\n",
    "- Construct DAG (pattern) according to identified independencies\n",
    "\n",
    "### (Conditional) Independence Tests\n",
    "Independencies in the data can be identified using chi2 conditional independence tests. To this end, a conditional independence hypothesis test is performed to check if X is independent from Y given a set of variables Zs:"
   ]
  },
  {
   "cell_type": "code",
   "execution_count": 48,
   "metadata": {},
   "outputs": [
    {
     "name": "stdout",
     "output_type": "stream",
     "text": [
      "(B,A):  False\n",
      "(B,H):  False\n",
      "(B,E):  True\n",
      "(B,H|A):  True\n",
      "(A,G):  True\n",
      "(A,G|H):  False\n"
     ]
    }
   ],
   "source": [
    "from pgmpy.estimators import PC\n",
    "from pgmpy.estimators.CITests import chi_square\n",
    "\n",
    "data2['A'] += data2['B'] + data2['C'] #[(B,A), (C,A)]\n",
    "data2['H'] = data2['G'] - data2['A']#[(G,H), (A,H)]\n",
    "data2['E'] *= data2['F'] # [(F, A)] - NONLINEAR RELATIONSHIP\n",
    "print('(B,A): ', chi_square(X='B', Y='A', Z=[], data=data2, significance_level=0.05))          # dependent\n",
    "print('(B,H): ', chi_square(X='B', Y='H', Z=[], data=data2, significance_level=0.05))          # dependent\n",
    "print('(B,E): ', chi_square(X='B', Y='E', Z=[], data=data2, significance_level=0.05))          # independent\n",
    "print('(B,H|A): ', chi_square(X='B', Y='H', Z=['A'], data=data2, significance_level=0.05))       # independent\n",
    "print('(A,G): ', chi_square(X='A', Y='G', Z=[], data=data2, significance_level=0.05))          # independent\n",
    "print('(A,G|H): ', chi_square(X='A', Y='G', Z=['H'], data=data2, significance_level=0.05))       # dependent"
   ]
  },
  {
   "cell_type": "markdown",
   "metadata": {},
   "source": [
    "The CITests.py module in pgmpy implements a few possible conditional independence tests.\n",
    "\n",
    "### DAG (pattern) construction\n",
    "With a method for independence testing at hand, we can construct a DAG from the data set in three steps: 1. Construct an undirected skeleton - estimate_skeleton() 2. Orient compelled edges to obtain partially directed acyclid graph (PDAG; I-equivalence class of DAGs) - skeleton_to_pdag() 3. Extend DAG pattern to a DAG by conservatively orienting the remaining edges in some way - pdag_to_dag()\n",
    "\n",
    "Step 1.&2. form the so-called PC algorithm, see [2], page 550. PDAGs are DirectedGraphs, that may contain both-way edges, to indicate that the orientation for the edge is not determined."
   ]
  },
  {
   "cell_type": "code",
   "execution_count": 52,
   "metadata": {},
   "outputs": [
    {
     "name": "stderr",
     "output_type": "stream",
     "text": [
      "Working for n conditional variables: 3:  60%|██████    | 3/5 [00:00<00:00, 16.08it/s]"
     ]
    },
    {
     "name": "stdout",
     "output_type": "stream",
     "text": [
      "Undirected edges:  [('A', 'H'), ('E', 'F'), ('G', 'H')]\n",
      "PDAG edges:        [('G', 'H'), ('A', 'H'), ('F', 'E'), ('E', 'F')]\n",
      "DAG edges:         [('G', 'H'), ('A', 'H'), ('E', 'F')]\n"
     ]
    },
    {
     "name": "stderr",
     "output_type": "stream",
     "text": [
      "\n"
     ]
    },
    {
     "data": {
      "image/png": "[encoded data removed]",
      "text/plain": [
       "<Figure size 197.56x204.891 with 1 Axes>"
      ]
     },
     "metadata": {},
     "output_type": "display_data"
    }
   ],
   "source": [
    "est = PC(data2)\n",
    "skel, seperating_sets = est.build_skeleton(significance_level=0.05)\n",
    "print(\"Undirected edges: \", skel.edges())\n",
    "pdag = est.skeleton_to_pdag(skel, seperating_sets)\n",
    "print(\"PDAG edges:       \", pdag.edges())\n",
    "best_model = pdag.to_dag()\n",
    "print(\"DAG edges:        \", best_model.edges())\n",
    "model_daft = best_model.to_daft(node_pos = 'circular', latex=False)\n",
    "model_daft.render();"
   ]
  },
  {
   "cell_type": "markdown",
   "metadata": {},
   "source": [
    "The estimate()-method provides a shorthand for the three steps above and directly returns a BayesianModel:"
   ]
  },
  {
   "cell_type": "code",
   "execution_count": 53,
   "metadata": {},
   "outputs": [
    {
     "name": "stderr",
     "output_type": "stream",
     "text": [
      "Working for n conditional variables: 3:  60%|██████    | 3/5 [00:00<00:00, 18.97it/s]"
     ]
    },
    {
     "name": "stdout",
     "output_type": "stream",
     "text": [
      "[('G', 'H'), ('A', 'H'), ('E', 'F')]\n"
     ]
    },
    {
     "name": "stderr",
     "output_type": "stream",
     "text": [
      "\n"
     ]
    }
   ],
   "source": [
    "print(est.estimate(significance_level=0.01).edges())"
   ]
  },
  {
   "cell_type": "markdown",
   "metadata": {},
   "source": [
    "PC PDAG construction is only guaranteed to work under the assumption that the identified set of independencies is faithful, i.e. there exists a DAG that exactly corresponds to it. Spurious dependencies in the data set can cause the reported independencies to violate faithfulness. It can happen that the estimated PDAG does not have any faithful completions (i.e. edge orientations that do not introduce new v-structures). In that case a warning is issued.\n",
    "\n",
    "## Hybrid Structure Learning\n",
    "The MMHC algorithm [3] combines the constraint-based and score-based method. It has two parts:\n",
    "\n",
    "1. Learn undirected graph skeleton using the constraint-based construction procedure MMPC\n",
    "\n",
    "2. Orient edges using score-based optimization (BDeu score + modified hill-climbing)\n",
    "\n",
    "We can perform the two steps seperately, more or less as follows:"
   ]
  },
  {
   "cell_type": "code",
   "execution_count": 55,
   "metadata": {},
   "outputs": [
    {
     "name": "stdout",
     "output_type": "stream",
     "text": [
      "Part 1) Skeleton:  [('A', 'H'), ('A', 'F'), ('A', 'D'), ('B', 'H'), ('B', 'F'), ('C', 'D'), ('C', 'E'), ('D', 'H'), ('E', 'F'), ('E', 'G'), ('F', 'H'), ('G', 'H')]\n"
     ]
    },
    {
     "name": "stderr",
     "output_type": "stream",
     "text": [
      "  0%|          | 0/1000000 [00:00<?, ?it/s]\n"
     ]
    },
    {
     "ename": "KeyError",
     "evalue": "'B'",
     "output_type": "error",
     "traceback": [
      "\u001b[1;31m---------------------------------------------------------------------------\u001b[0m",
      "\u001b[1;31mKeyError\u001b[0m                                  Traceback (most recent call last)",
      "Cell \u001b[1;32mIn[55], line 13\u001b[0m\n\u001b[0;32m     11\u001b[0m \u001b[38;5;66;03m# use hill climb search to orient the edges:\u001b[39;00m\n\u001b[0;32m     12\u001b[0m hc \u001b[38;5;241m=\u001b[39m HillClimbSearch(data2)\n\u001b[1;32m---> 13\u001b[0m model \u001b[38;5;241m=\u001b[39m \u001b[43mhc\u001b[49m\u001b[38;5;241;43m.\u001b[39;49m\u001b[43mestimate\u001b[49m\u001b[43m(\u001b[49m\u001b[43mtabu_length\u001b[49m\u001b[38;5;241;43m=\u001b[39;49m\u001b[38;5;241;43m10\u001b[39;49m\u001b[43m,\u001b[49m\u001b[43m \u001b[49m\u001b[43mwhite_list\u001b[49m\u001b[38;5;241;43m=\u001b[39;49m\u001b[43mskeleton\u001b[49m\u001b[38;5;241;43m.\u001b[39;49m\u001b[43mto_directed\u001b[49m\u001b[43m(\u001b[49m\u001b[43m)\u001b[49m\u001b[38;5;241;43m.\u001b[39;49m\u001b[43medges\u001b[49m\u001b[43m(\u001b[49m\u001b[43m)\u001b[49m\u001b[43m,\u001b[49m\u001b[43m \u001b[49m\u001b[43mscoring_method\u001b[49m\u001b[38;5;241;43m=\u001b[39;49m\u001b[43mBDeuScore\u001b[49m\u001b[43m(\u001b[49m\u001b[43mdata\u001b[49m\u001b[43m)\u001b[49m\u001b[43m)\u001b[49m\n\u001b[0;32m     14\u001b[0m \u001b[38;5;28mprint\u001b[39m(\u001b[38;5;124m\"\u001b[39m\u001b[38;5;124mPart 2) Model:    \u001b[39m\u001b[38;5;124m\"\u001b[39m, model\u001b[38;5;241m.\u001b[39medges())\n",
      "File \u001b[1;32mc:\\Users\\praf6\\OneDrive\\UFCA\\Ensino\\CRAN R_aulas\\RClasses\\P\\.conda\\Lib\\site-packages\\pgmpy\\estimators\\HillClimbSearch.py:305\u001b[0m, in \u001b[0;36mHillClimbSearch.estimate\u001b[1;34m(self, scoring_method, start_dag, fixed_edges, tabu_length, max_indegree, black_list, white_list, epsilon, max_iter, show_progress)\u001b[0m\n\u001b[0;32m    301\u001b[0m \u001b[38;5;66;03m# Step 2: For each iteration, find the best scoring operation and\u001b[39;00m\n\u001b[0;32m    302\u001b[0m \u001b[38;5;66;03m#         do that to the current model. If no legal operation is\u001b[39;00m\n\u001b[0;32m    303\u001b[0m \u001b[38;5;66;03m#         possible, sets best_operation=None.\u001b[39;00m\n\u001b[0;32m    304\u001b[0m \u001b[38;5;28;01mfor\u001b[39;00m _ \u001b[38;5;129;01min\u001b[39;00m iteration:\n\u001b[1;32m--> 305\u001b[0m     best_operation, best_score_delta \u001b[38;5;241m=\u001b[39m \u001b[38;5;28;43mmax\u001b[39;49m\u001b[43m(\u001b[49m\n\u001b[0;32m    306\u001b[0m \u001b[43m        \u001b[49m\u001b[38;5;28;43mself\u001b[39;49m\u001b[38;5;241;43m.\u001b[39;49m\u001b[43m_legal_operations\u001b[49m\u001b[43m(\u001b[49m\n\u001b[0;32m    307\u001b[0m \u001b[43m            \u001b[49m\u001b[43mcurrent_model\u001b[49m\u001b[43m,\u001b[49m\n\u001b[0;32m    308\u001b[0m \u001b[43m            \u001b[49m\u001b[43mscore_fn\u001b[49m\u001b[43m,\u001b[49m\n\u001b[0;32m    309\u001b[0m \u001b[43m            \u001b[49m\u001b[43mscore\u001b[49m\u001b[38;5;241;43m.\u001b[39;49m\u001b[43mstructure_prior_ratio\u001b[49m\u001b[43m,\u001b[49m\n\u001b[0;32m    310\u001b[0m \u001b[43m            \u001b[49m\u001b[43mtabu_list\u001b[49m\u001b[43m,\u001b[49m\n\u001b[0;32m    311\u001b[0m \u001b[43m            \u001b[49m\u001b[43mmax_indegree\u001b[49m\u001b[43m,\u001b[49m\n\u001b[0;32m    312\u001b[0m \u001b[43m            \u001b[49m\u001b[43mblack_list\u001b[49m\u001b[43m,\u001b[49m\n\u001b[0;32m    313\u001b[0m \u001b[43m            \u001b[49m\u001b[43mwhite_list\u001b[49m\u001b[43m,\u001b[49m\n\u001b[0;32m    314\u001b[0m \u001b[43m            \u001b[49m\u001b[43mfixed_edges\u001b[49m\u001b[43m,\u001b[49m\n\u001b[0;32m    315\u001b[0m \u001b[43m        \u001b[49m\u001b[43m)\u001b[49m\u001b[43m,\u001b[49m\n\u001b[0;32m    316\u001b[0m \u001b[43m        \u001b[49m\u001b[43mkey\u001b[49m\u001b[38;5;241;43m=\u001b[39;49m\u001b[38;5;28;43;01mlambda\u001b[39;49;00m\u001b[43m \u001b[49m\u001b[43mt\u001b[49m\u001b[43m:\u001b[49m\u001b[43m \u001b[49m\u001b[43mt\u001b[49m\u001b[43m[\u001b[49m\u001b[38;5;241;43m1\u001b[39;49m\u001b[43m]\u001b[49m\u001b[43m,\u001b[49m\n\u001b[0;32m    317\u001b[0m \u001b[43m        \u001b[49m\u001b[43mdefault\u001b[49m\u001b[38;5;241;43m=\u001b[39;49m\u001b[43m(\u001b[49m\u001b[38;5;28;43;01mNone\u001b[39;49;00m\u001b[43m,\u001b[49m\u001b[43m \u001b[49m\u001b[38;5;28;43;01mNone\u001b[39;49;00m\u001b[43m)\u001b[49m\u001b[43m,\u001b[49m\n\u001b[0;32m    318\u001b[0m \u001b[43m    \u001b[49m\u001b[43m)\u001b[49m\n\u001b[0;32m    320\u001b[0m     \u001b[38;5;28;01mif\u001b[39;00m best_operation \u001b[38;5;129;01mis\u001b[39;00m \u001b[38;5;28;01mNone\u001b[39;00m \u001b[38;5;129;01mor\u001b[39;00m best_score_delta \u001b[38;5;241m<\u001b[39m epsilon:\n\u001b[0;32m    321\u001b[0m         \u001b[38;5;28;01mbreak\u001b[39;00m\n",
      "File \u001b[1;32mc:\\Users\\praf6\\OneDrive\\UFCA\\Ensino\\CRAN R_aulas\\RClasses\\P\\.conda\\Lib\\site-packages\\pgmpy\\estimators\\HillClimbSearch.py:102\u001b[0m, in \u001b[0;36mHillClimbSearch._legal_operations\u001b[1;34m(self, model, score, structure_score, tabu_list, max_indegree, black_list, white_list, fixed_edges)\u001b[0m\n\u001b[0;32m    100\u001b[0m new_parents \u001b[38;5;241m=\u001b[39m old_parents \u001b[38;5;241m+\u001b[39m [X]\n\u001b[0;32m    101\u001b[0m \u001b[38;5;28;01mif\u001b[39;00m \u001b[38;5;28mlen\u001b[39m(new_parents) \u001b[38;5;241m<\u001b[39m\u001b[38;5;241m=\u001b[39m max_indegree:\n\u001b[1;32m--> 102\u001b[0m     score_delta \u001b[38;5;241m=\u001b[39m \u001b[43mscore\u001b[49m\u001b[43m(\u001b[49m\u001b[43mY\u001b[49m\u001b[43m,\u001b[49m\u001b[43m \u001b[49m\u001b[43mnew_parents\u001b[49m\u001b[43m)\u001b[49m \u001b[38;5;241m-\u001b[39m score(Y, old_parents)\n\u001b[0;32m    103\u001b[0m     score_delta \u001b[38;5;241m+\u001b[39m\u001b[38;5;241m=\u001b[39m structure_score(\u001b[38;5;124m\"\u001b[39m\u001b[38;5;124m+\u001b[39m\u001b[38;5;124m\"\u001b[39m)\n\u001b[0;32m    104\u001b[0m     \u001b[38;5;28;01myield\u001b[39;00m (operation, score_delta)\n",
      "File \u001b[1;32mc:\\Users\\praf6\\OneDrive\\UFCA\\Ensino\\CRAN R_aulas\\RClasses\\P\\.conda\\Lib\\site-packages\\pgmpy\\estimators\\ScoreCache.py:43\u001b[0m, in \u001b[0;36mScoreCache.local_score\u001b[1;34m(self, variable, parents)\u001b[0m\n\u001b[0;32m     41\u001b[0m \u001b[38;5;28;01mdef\u001b[39;00m \u001b[38;5;21mlocal_score\u001b[39m(\u001b[38;5;28mself\u001b[39m, variable, parents):\n\u001b[0;32m     42\u001b[0m     hashable \u001b[38;5;241m=\u001b[39m \u001b[38;5;28mtuple\u001b[39m(parents)\n\u001b[1;32m---> 43\u001b[0m     \u001b[38;5;28;01mreturn\u001b[39;00m \u001b[38;5;28;43mself\u001b[39;49m\u001b[38;5;241;43m.\u001b[39;49m\u001b[43mcache\u001b[49m\u001b[43m(\u001b[49m\u001b[43mvariable\u001b[49m\u001b[43m,\u001b[49m\u001b[43m \u001b[49m\u001b[43mhashable\u001b[49m\u001b[43m)\u001b[49m\n",
      "File \u001b[1;32mc:\\Users\\praf6\\OneDrive\\UFCA\\Ensino\\CRAN R_aulas\\RClasses\\P\\.conda\\Lib\\site-packages\\pgmpy\\estimators\\ScoreCache.py:88\u001b[0m, in \u001b[0;36mLRUCache.__call__\u001b[1;34m(self, *key)\u001b[0m\n\u001b[0;32m     85\u001b[0m link \u001b[38;5;241m=\u001b[39m mapping\u001b[38;5;241m.\u001b[39mget(key, head)\n\u001b[0;32m     86\u001b[0m \u001b[38;5;28;01mif\u001b[39;00m link \u001b[38;5;129;01mis\u001b[39;00m head:\n\u001b[0;32m     87\u001b[0m     \u001b[38;5;66;03m# Not yet in map\u001b[39;00m\n\u001b[1;32m---> 88\u001b[0m     value \u001b[38;5;241m=\u001b[39m \u001b[38;5;28;43mself\u001b[39;49m\u001b[38;5;241;43m.\u001b[39;49m\u001b[43moriginal_function\u001b[49m\u001b[43m(\u001b[49m\u001b[38;5;241;43m*\u001b[39;49m\u001b[43mkey\u001b[49m\u001b[43m)\u001b[49m\n\u001b[0;32m     89\u001b[0m     \u001b[38;5;28;01mif\u001b[39;00m \u001b[38;5;28mlen\u001b[39m(mapping) \u001b[38;5;241m>\u001b[39m\u001b[38;5;241m=\u001b[39m \u001b[38;5;28mself\u001b[39m\u001b[38;5;241m.\u001b[39mmax_size:\n\u001b[0;32m     90\u001b[0m         \u001b[38;5;66;03m# Unlink the least recently used element\u001b[39;00m\n\u001b[0;32m     91\u001b[0m         old_prev, old_next, old_key, old_value \u001b[38;5;241m=\u001b[39m head[_NEXT]\n",
      "File \u001b[1;32mc:\\Users\\praf6\\OneDrive\\UFCA\\Ensino\\CRAN R_aulas\\RClasses\\P\\.conda\\Lib\\site-packages\\pgmpy\\estimators\\ScoreCache.py:47\u001b[0m, in \u001b[0;36mScoreCache._wrapped_original\u001b[1;34m(self, variable, parents)\u001b[0m\n\u001b[0;32m     45\u001b[0m \u001b[38;5;28;01mdef\u001b[39;00m \u001b[38;5;21m_wrapped_original\u001b[39m(\u001b[38;5;28mself\u001b[39m, variable, parents):\n\u001b[0;32m     46\u001b[0m     expected \u001b[38;5;241m=\u001b[39m \u001b[38;5;28mlist\u001b[39m(parents)\n\u001b[1;32m---> 47\u001b[0m     \u001b[38;5;28;01mreturn\u001b[39;00m \u001b[38;5;28;43mself\u001b[39;49m\u001b[38;5;241;43m.\u001b[39;49m\u001b[43mbase_scorer\u001b[49m\u001b[38;5;241;43m.\u001b[39;49m\u001b[43mlocal_score\u001b[49m\u001b[43m(\u001b[49m\u001b[43mvariable\u001b[49m\u001b[43m,\u001b[49m\u001b[43m \u001b[49m\u001b[43mexpected\u001b[49m\u001b[43m)\u001b[49m\n",
      "File \u001b[1;32mc:\\Users\\praf6\\OneDrive\\UFCA\\Ensino\\CRAN R_aulas\\RClasses\\P\\.conda\\Lib\\site-packages\\pgmpy\\estimators\\StructureScore.py:198\u001b[0m, in \u001b[0;36mBDeuScore.local_score\u001b[1;34m(self, variable, parents)\u001b[0m\n\u001b[0;32m    194\u001b[0m \u001b[38;5;28;01mdef\u001b[39;00m \u001b[38;5;21mlocal_score\u001b[39m(\u001b[38;5;28mself\u001b[39m, variable, parents):\n\u001b[0;32m    195\u001b[0m     \u001b[38;5;124m'\u001b[39m\u001b[38;5;124mComputes a score that measures how much a \u001b[39m\u001b[38;5;130;01m\\\u001b[39;00m\n\u001b[0;32m    196\u001b[0m \u001b[38;5;124m    given variable is \u001b[39m\u001b[38;5;124m\"\u001b[39m\u001b[38;5;124minfluenced\u001b[39m\u001b[38;5;124m\"\u001b[39m\u001b[38;5;124m by a given list of potential parents.\u001b[39m\u001b[38;5;124m'\u001b[39m\n\u001b[1;32m--> 198\u001b[0m     var_states \u001b[38;5;241m=\u001b[39m \u001b[38;5;28;43mself\u001b[39;49m\u001b[38;5;241;43m.\u001b[39;49m\u001b[43mstate_names\u001b[49m\u001b[43m[\u001b[49m\u001b[43mvariable\u001b[49m\u001b[43m]\u001b[49m\n\u001b[0;32m    199\u001b[0m     var_cardinality \u001b[38;5;241m=\u001b[39m \u001b[38;5;28mlen\u001b[39m(var_states)\n\u001b[0;32m    200\u001b[0m     state_counts \u001b[38;5;241m=\u001b[39m \u001b[38;5;28mself\u001b[39m\u001b[38;5;241m.\u001b[39mstate_counts(variable, parents)\n",
      "\u001b[1;31mKeyError\u001b[0m: 'B'"
     ]
    }
   ],
   "source": [
    "#[(B,A), (C,A)]\n",
    "#[(G,H), (A,H)]\n",
    "# [(F, A)] - NONLINEAR RELATIONSHIP\n",
    "from pgmpy.estimators import MmhcEstimator\n",
    "from pgmpy.estimators import BDeuScore\n",
    "\n",
    "mmhc = MmhcEstimator(data2)\n",
    "skeleton = mmhc.mmpc()\n",
    "print(\"Part 1) Skeleton: \", skeleton.edges())\n",
    "\n",
    "# use hill climb search to orient the edges:\n",
    "hc = HillClimbSearch(data2)\n",
    "model = hc.estimate(tabu_length=10, white_list=skeleton.to_directed().edges(), scoring_method=BDeuScore(data))\n",
    "print(\"Part 2) Model:    \", model.edges())\n"
   ]
  },
  {
   "cell_type": "markdown",
   "metadata": {},
   "source": [
    "# References\n",
    "[1] Koller & Friedman, Probabilistic Graphical Models - Principles and Techniques, 2009\n",
    "\n",
    "[2] Neapolitan, Learning Bayesian Networks, 2003\n",
    "\n",
    "[3] Tsamardinos et al., The max-min hill-climbing BN structure learning algorithm, 2005"
   ]
  }
 ],
 "metadata": {
  "kernelspec": {
   "display_name": ".conda",
   "language": "python",
   "name": "python3"
  },
  "language_info": {
   "codemirror_mode": {
    "name": "ipython",
    "version": 3
   },
   "file_extension": ".py",
   "mimetype": "text/x-python",
   "name": "python",
   "nbconvert_exporter": "python",
   "pygments_lexer": "ipython3",
   "version": "3.11.3"
  }
 },
 "nbformat": 4,
 "nbformat_minor": 2
}
